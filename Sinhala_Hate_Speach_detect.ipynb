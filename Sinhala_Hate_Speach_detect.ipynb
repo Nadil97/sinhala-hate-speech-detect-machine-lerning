{
 "cells": [
  {
   "cell_type": "code",
   "execution_count": 2,
   "id": "c7d180f8",
   "metadata": {},
   "outputs": [
    {
     "name": "stdout",
     "output_type": "stream",
     "text": [
      "D:\\Git hub projects\\Sinhal Hate speach machine learning\\sinhala-hate-speech-dataset.csv\n",
      "D:\\Git hub projects\\Sinhal Hate speach machine learning\\Sinhala_Hate_Speach_detect.ipynb\n",
      "D:\\Git hub projects\\Sinhal Hate speach machine learning\\.git\\COMMIT_EDITMSG\n",
      "D:\\Git hub projects\\Sinhal Hate speach machine learning\\.git\\config\n",
      "D:\\Git hub projects\\Sinhal Hate speach machine learning\\.git\\description\n",
      "D:\\Git hub projects\\Sinhal Hate speach machine learning\\.git\\HEAD\n",
      "D:\\Git hub projects\\Sinhal Hate speach machine learning\\.git\\index\n",
      "D:\\Git hub projects\\Sinhal Hate speach machine learning\\.git\\hooks\\applypatch-msg.sample\n",
      "D:\\Git hub projects\\Sinhal Hate speach machine learning\\.git\\hooks\\commit-msg.sample\n",
      "D:\\Git hub projects\\Sinhal Hate speach machine learning\\.git\\hooks\\fsmonitor-watchman.sample\n",
      "D:\\Git hub projects\\Sinhal Hate speach machine learning\\.git\\hooks\\post-update.sample\n",
      "D:\\Git hub projects\\Sinhal Hate speach machine learning\\.git\\hooks\\pre-applypatch.sample\n",
      "D:\\Git hub projects\\Sinhal Hate speach machine learning\\.git\\hooks\\pre-commit.sample\n",
      "D:\\Git hub projects\\Sinhal Hate speach machine learning\\.git\\hooks\\pre-merge-commit.sample\n",
      "D:\\Git hub projects\\Sinhal Hate speach machine learning\\.git\\hooks\\pre-push.sample\n",
      "D:\\Git hub projects\\Sinhal Hate speach machine learning\\.git\\hooks\\pre-rebase.sample\n",
      "D:\\Git hub projects\\Sinhal Hate speach machine learning\\.git\\hooks\\pre-receive.sample\n",
      "D:\\Git hub projects\\Sinhal Hate speach machine learning\\.git\\hooks\\prepare-commit-msg.sample\n",
      "D:\\Git hub projects\\Sinhal Hate speach machine learning\\.git\\hooks\\push-to-checkout.sample\n",
      "D:\\Git hub projects\\Sinhal Hate speach machine learning\\.git\\hooks\\update.sample\n",
      "D:\\Git hub projects\\Sinhal Hate speach machine learning\\.git\\info\\exclude\n",
      "D:\\Git hub projects\\Sinhal Hate speach machine learning\\.git\\logs\\HEAD\n",
      "D:\\Git hub projects\\Sinhal Hate speach machine learning\\.git\\logs\\refs\\heads\\master\n",
      "D:\\Git hub projects\\Sinhal Hate speach machine learning\\.git\\logs\\refs\\remotes\\origin\\master\n",
      "D:\\Git hub projects\\Sinhal Hate speach machine learning\\.git\\objects\\98\\f26e0d2d9a6b4ca720fd5038ae7b43e390d53e\n",
      "D:\\Git hub projects\\Sinhal Hate speach machine learning\\.git\\objects\\cb\\1b108faddb095b70c31c6b66b98962891df9a8\n",
      "D:\\Git hub projects\\Sinhal Hate speach machine learning\\.git\\objects\\f0\\c11330f04175bc1d4936fb278053fc8cb96729\n",
      "D:\\Git hub projects\\Sinhal Hate speach machine learning\\.git\\refs\\heads\\master\n",
      "D:\\Git hub projects\\Sinhal Hate speach machine learning\\.git\\refs\\remotes\\origin\\master\n",
      "D:\\Git hub projects\\Sinhal Hate speach machine learning\\.ipynb_checkpoints\\Sinhala_Hate_Speach_detect-checkpoint.ipynb\n"
     ]
    }
   ],
   "source": [
    "#Insatll library\n",
    "import numpy as np \n",
    "import pandas as pd \n",
    "import matplotlib\n",
    "import matplotlib.pyplot as plt\n",
    "import nltk \n",
    "import seaborn as sns\n",
    "from nltk.tokenize import word_tokenize\n",
    "from nltk.corpus import stopwords\n",
    "%matplotlib inline\n",
    "\n",
    "import os\n",
    "for dirname, _, filenames in os.walk('D:\\Git hub projects\\Sinhal Hate speach machine learning'):\n",
    "    for filename in filenames:\n",
    "        print(os.path.join(dirname, filename))\n",
    "        \n"
   ]
  },
  {
   "cell_type": "code",
   "execution_count": 3,
   "id": "77c85e13",
   "metadata": {},
   "outputs": [],
   "source": [
    "df = pd.read_csv(r'D:\\Git hub projects\\Sinhal Hate speach machine learning\\sinhala-hate-speech-dataset.csv')"
   ]
  },
  {
   "cell_type": "code",
   "execution_count": 4,
   "id": "695db48c",
   "metadata": {},
   "outputs": [
    {
     "name": "stdout",
     "output_type": "stream",
     "text": [
      "        id                                            comment  label\n",
      "0        1                    `හුදෙකලා´ එකේ `ද´ ඇහෙනවද කාටහරි      0\n",
      "1        2                              18ක පෙනුමක් තියෙන්නේ       0\n",
      "2        3   2020 එනවා කිව්නාට මෙහෙම එයි කියලා හිතුවේ නෑ පට්ට      0\n",
      "3        4                                  25 කැල්ල..හම්මෝ..      0\n",
      "4        5                  25 කෙල්ල අයියලගෙ කාලද කොහෙද ඉන්නෙ      1\n",
      "...    ...                                                ...    ...\n",
      "6340  6341  ෆට්ට ඒත් ඉතින් ඔහේ ඔක්සිජන් ඔනී නැතී සෙට් එකක්...      0\n",
      "6341  6342                                             ෆයිනලි      0\n",
      "6342  6343                                ෆුකෙන් හිනා මේවට...      1\n",
      "6343  6344              ෆෝන් එක චාර්ජ් කරගනින්,29%. පට්ට.....      0\n",
      "6344  6345  ෆ්ලෑශ් ටෙලිඩ්‍රාමා එක ඇත්ත තියරියක් වෙන්නත් ඇත...      0\n",
      "\n",
      "[6345 rows x 3 columns]\n"
     ]
    }
   ],
   "source": [
    "print(df)"
   ]
  }
 ],
 "metadata": {
  "kernelspec": {
   "display_name": "Python 3.9.0b5 64-bit",
   "language": "python",
   "name": "python3"
  },
  "language_info": {
   "codemirror_mode": {
    "name": "ipython",
    "version": 3
   },
   "file_extension": ".py",
   "mimetype": "text/x-python",
   "name": "python",
   "nbconvert_exporter": "python",
   "pygments_lexer": "ipython3",
   "version": "3.9.0b5"
  },
  "vscode": {
   "interpreter": {
    "hash": "9010ec4eebc492a6183acc6b8f9d2a9266491afb439cbe1d8b9384c587b2fc61"
   }
  }
 },
 "nbformat": 4,
 "nbformat_minor": 5
}
