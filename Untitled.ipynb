{
 "cells": [
  {
   "cell_type": "code",
   "execution_count": 2,
   "id": "5702b459",
   "metadata": {},
   "outputs": [
    {
     "name": "stdout",
     "output_type": "stream",
     "text": [
      "   id                                           comment  label\n",
      "0   1                   `හුදෙකලා´ එකේ `ද´ ඇහෙනවද කාටහරි      0\n",
      "1   2                             18ක පෙනුමක් තියෙන්නේ       0\n",
      "2   3  2020 එනවා කිව්නාට මෙහෙම එයි කියලා හිතුවේ නෑ පට්ට      0\n",
      "3   4                                 25 කැල්ල..හම්මෝ..      0\n",
      "4   5                 25 කෙල්ල අයියලගෙ කාලද කොහෙද ඉන්නෙ      1\n",
      "Index(['id', 'comment', 'label'], dtype='object')\n"
     ]
    }
   ],
   "source": [
    "import pandas as pd\n",
    "\n",
    "# Adjust the filename to match the actual CSV\n",
    "csv_path = r\"D:\\work\\june 2025\\hate spech detection\\sinhala-hate-speech-detect-machine-lerning\\sinhala-hate-speech-dataset.csv\"\n",
    "\n",
    "# Load the CSV\n",
    "df = pd.read_csv(csv_path)\n",
    "\n",
    "# Preview\n",
    "print(df.head())\n",
    "print(df.columns)\n"
   ]
  },
  {
   "cell_type": "code",
   "execution_count": 6,
   "id": "5918eaa7",
   "metadata": {},
   "outputs": [
    {
     "name": "stderr",
     "output_type": "stream",
     "text": [
      "[nltk_data] Downloading package punkt to C:\\Users\\MY\n",
      "[nltk_data]     PC\\AppData\\Roaming\\nltk_data...\n",
      "[nltk_data]   Package punkt is already up-to-date!\n"
     ]
    }
   ],
   "source": [
    "import nltk\n",
    "import re\n",
    "from nltk.tokenize import word_tokenize\n",
    "\n",
    "nltk.download('punkt')\n",
    "\n",
    "# Sinhala stopwords (expand this list as needed)\n",
    "sinhala_stopwords = set([\n",
    "    'ඔහු', 'ඇය', 'ඔබ', 'අපි', 'මම', 'එය', 'මෙය', 'ඒක', 'දෙවියන්', 'නැහැ', 'ඔව්'\n",
    "])\n",
    "\n",
    "def preprocess_text(text):\n",
    "    text = str(text).lower()\n",
    "    text = re.sub(r'[^\\u0D80-\\u0DFF\\s]', '', text)  # Keep only Sinhala characters and spaces\n",
    "    tokens = word_tokenize(text)\n",
    "    tokens = [word for word in tokens if word not in sinhala_stopwords]\n",
    "    return \" \".join(tokens)\n",
    "\n",
    "\n",
    "df['clean_text'] = df['comment'].apply(preprocess_text)\n"
   ]
  },
  {
   "cell_type": "code",
   "execution_count": 13,
   "id": "35c8fb77",
   "metadata": {},
   "outputs": [
    {
     "name": "stdout",
     "output_type": "stream",
     "text": [
      "[0 1]\n"
     ]
    }
   ],
   "source": [
    "from sklearn.preprocessing import LabelEncoder\n",
    "\n",
    "le = LabelEncoder()\n",
    "df['label_encoded'] = le.fit_transform(df['label'])  # e.g., 'hate' -> 1, 'normal' -> 0\n",
    "print(le.classes_)  # See mapping\n"
   ]
  },
  {
   "cell_type": "code",
   "execution_count": 14,
   "id": "6f722df4",
   "metadata": {},
   "outputs": [],
   "source": [
    "from sklearn.model_selection import train_test_split\n",
    "\n",
    "X = df['clean_text']\n",
    "y = df['label_encoded']\n",
    "\n",
    "X_train, X_test, y_train, y_test = train_test_split(\n",
    "    X, y, test_size=0.2, random_state=42, stratify=y\n",
    ")\n"
   ]
  },
  {
   "cell_type": "code",
   "execution_count": 16,
   "id": "a9b5514e",
   "metadata": {},
   "outputs": [],
   "source": [
    "from sklearn.feature_extraction.text import TfidfVectorizer\n",
    "\n",
    "vectorizer = TfidfVectorizer(max_features=5000)\n",
    "X_train_tfidf = vectorizer.fit_transform(X_train)\n",
    "X_test_tfidf = vectorizer.transform(X_test)\n"
   ]
  },
  {
   "cell_type": "code",
   "execution_count": 17,
   "id": "52f0d661",
   "metadata": {},
   "outputs": [
    {
     "data": {
      "text/plain": [
       "LogisticRegression()"
      ]
     },
     "execution_count": 17,
     "metadata": {},
     "output_type": "execute_result"
    }
   ],
   "source": [
    "from sklearn.linear_model import LogisticRegression\n",
    "\n",
    "model = LogisticRegression()\n",
    "model.fit(X_train_tfidf, y_train)\n"
   ]
  },
  {
   "cell_type": "code",
   "execution_count": 19,
   "id": "2370b703",
   "metadata": {},
   "outputs": [
    {
     "name": "stdout",
     "output_type": "stream",
     "text": [
      "✅ Accuracy: 0.7588652482269503\n",
      "🔍 Classification Report:\n",
      "              precision    recall  f1-score   support\n",
      "\n",
      "           0       0.75      0.71      0.73       578\n",
      "           1       0.77      0.80      0.78       691\n",
      "\n",
      "    accuracy                           0.76      1269\n",
      "   macro avg       0.76      0.76      0.76      1269\n",
      "weighted avg       0.76      0.76      0.76      1269\n",
      "\n"
     ]
    }
   ],
   "source": [
    "from sklearn.metrics import classification_report, accuracy_score\n",
    "\n",
    "y_pred = model.predict(X_test_tfidf)\n",
    "\n",
    "print(\"✅ Accuracy:\", accuracy_score(y_test, y_pred))\n",
    "print(\"🔍 Classification Report:\")\n",
    "print(classification_report(y_test, y_pred, target_names=le.classes_.astype(str)))\n"
   ]
  },
  {
   "cell_type": "code",
   "execution_count": 20,
   "id": "ef0dd018",
   "metadata": {},
   "outputs": [
    {
     "data": {
      "text/plain": [
       "['sinhala_label_encoder.pkl']"
      ]
     },
     "execution_count": 20,
     "metadata": {},
     "output_type": "execute_result"
    }
   ],
   "source": [
    "import joblib\n",
    "\n",
    "joblib.dump(model, 'sinhala_hate_model.pkl')\n",
    "joblib.dump(vectorizer, 'sinhala_vectorizer.pkl')\n",
    "joblib.dump(le, 'sinhala_label_encoder.pkl')\n"
   ]
  },
  {
   "cell_type": "code",
   "execution_count": null,
   "id": "d4bf55d9",
   "metadata": {},
   "outputs": [],
   "source": []
  }
 ],
 "metadata": {
  "kernelspec": {
   "display_name": "Python 3 (ipykernel)",
   "language": "python",
   "name": "python3"
  },
  "language_info": {
   "codemirror_mode": {
    "name": "ipython",
    "version": 3
   },
   "file_extension": ".py",
   "mimetype": "text/x-python",
   "name": "python",
   "nbconvert_exporter": "python",
   "pygments_lexer": "ipython3",
   "version": "3.9.0b5"
  }
 },
 "nbformat": 4,
 "nbformat_minor": 5
}
